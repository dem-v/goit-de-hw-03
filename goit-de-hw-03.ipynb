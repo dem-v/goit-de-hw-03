{
 "cells": [
  {
   "cell_type": "code",
   "id": "initial_id",
   "metadata": {
    "collapsed": true,
    "ExecuteTime": {
     "end_time": "2025-05-10T22:06:38.594865Z",
     "start_time": "2025-05-10T22:06:38.590084Z"
    }
   },
   "source": [
    "from pyspark.sql import SparkSession\n",
    "from pyspark.sql.functions import col, count, min, max, avg, unix_timestamp, count_if, round, when, collect_list, array_union, array_distinct, sum, sumDistinct, desc\n",
    "from pyspark.sql.types import TimestampType, IntegerType, DoubleType"
   ],
   "outputs": [],
   "execution_count": 23
  },
  {
   "metadata": {
    "ExecuteTime": {
     "end_time": "2025-05-10T21:32:20.036720Z",
     "start_time": "2025-05-10T21:32:16.032836Z"
    }
   },
   "cell_type": "code",
   "source": "spark = SparkSession.builder.appName(\"MyGoitSparkSandbox\").getOrCreate()",
   "id": "a344f45efaa29962",
   "outputs": [
    {
     "name": "stderr",
     "output_type": "stream",
     "text": [
      "bash: warning: setlocale: LC_ALL: cannot change locale (en_US.UTF-8)\n",
      "bash: warning: setlocale: LC_ALL: cannot change locale (en_US.UTF-8)\n",
      "25/05/11 00:32:17 WARN Utils: Your hostname, MD-UASWD-0430 resolves to a loopback address: 127.0.1.1; using 10.255.255.254 instead (on interface lo)\n",
      "25/05/11 00:32:17 WARN Utils: Set SPARK_LOCAL_IP if you need to bind to another address\n",
      "Setting default log level to \"WARN\".\n",
      "To adjust logging level use sc.setLogLevel(newLevel). For SparkR, use setLogLevel(newLevel).\n",
      "25/05/11 00:32:18 WARN NativeCodeLoader: Unable to load native-hadoop library for your platform... using builtin-java classes where applicable\n"
     ]
    }
   ],
   "execution_count": 3
  },
  {
   "metadata": {},
   "cell_type": "markdown",
   "source": "# Етап 1, завантаження датасетів",
   "id": "6686b8bfeefa9b84"
  },
  {
   "metadata": {
    "ExecuteTime": {
     "end_time": "2025-05-10T21:32:30.317775Z",
     "start_time": "2025-05-10T21:32:24.932043Z"
    }
   },
   "cell_type": "code",
   "source": [
    "df_users = spark.read.csv('./users.csv', header=True)\n",
    "df_products = spark.read.csv('./products.csv', header=True)\n",
    "df_purchases = spark.read.csv('./purchases.csv', header=True)"
   ],
   "id": "62fc9b6c846456e9",
   "outputs": [],
   "execution_count": 4
  },
  {
   "metadata": {
    "ExecuteTime": {
     "end_time": "2025-05-10T21:32:52.489856Z",
     "start_time": "2025-05-10T21:32:52.218397Z"
    }
   },
   "cell_type": "code",
   "source": "df_users.show(10)",
   "id": "9ad4b4ab3a5baa8f",
   "outputs": [
    {
     "name": "stdout",
     "output_type": "stream",
     "text": [
      "+-------+-------+---+------------------+\n",
      "|user_id|   name|age|             email|\n",
      "+-------+-------+---+------------------+\n",
      "|      1| User_1| 45| user1@example.com|\n",
      "|      2| User_2| 48| user2@example.com|\n",
      "|      3| User_3| 36| user3@example.com|\n",
      "|      4| User_4| 46| user4@example.com|\n",
      "|      5| User_5| 29| user5@example.com|\n",
      "|      6| User_6| 39| user6@example.com|\n",
      "|      7| User_7| 24| user7@example.com|\n",
      "|      8| User_8| 44| user8@example.com|\n",
      "|      9| User_9| 27| user9@example.com|\n",
      "|     10|User_10| 43|user10@example.com|\n",
      "+-------+-------+---+------------------+\n",
      "only showing top 10 rows\n",
      "\n"
     ]
    }
   ],
   "execution_count": 5
  },
  {
   "metadata": {
    "ExecuteTime": {
     "end_time": "2025-05-10T21:32:54.359908Z",
     "start_time": "2025-05-10T21:32:54.209649Z"
    }
   },
   "cell_type": "code",
   "source": "df_products.show(10)",
   "id": "9d7df3db50e5b13d",
   "outputs": [
    {
     "name": "stdout",
     "output_type": "stream",
     "text": [
      "+----------+------------+-----------+-----+\n",
      "|product_id|product_name|   category|price|\n",
      "+----------+------------+-----------+-----+\n",
      "|         1|   Product_1|     Beauty|  8.3|\n",
      "|         2|   Product_2|       Home|  8.3|\n",
      "|         3|   Product_3|Electronics|  9.2|\n",
      "|         4|   Product_4|Electronics|  2.6|\n",
      "|         5|   Product_5|Electronics|  9.4|\n",
      "|         6|   Product_6|     Sports|  8.7|\n",
      "|         7|   Product_7|     Beauty|  8.2|\n",
      "|         8|   Product_8|     Sports|  1.0|\n",
      "|         9|   Product_9|     Beauty|  6.0|\n",
      "|        10|  Product_10|     Sports|  5.4|\n",
      "+----------+------------+-----------+-----+\n",
      "only showing top 10 rows\n",
      "\n"
     ]
    }
   ],
   "execution_count": 6
  },
  {
   "metadata": {
    "ExecuteTime": {
     "end_time": "2025-05-10T21:32:56.260499Z",
     "start_time": "2025-05-10T21:32:56.085946Z"
    }
   },
   "cell_type": "code",
   "source": "df_purchases.show(10)",
   "id": "89a878e76e605e",
   "outputs": [
    {
     "name": "stdout",
     "output_type": "stream",
     "text": [
      "+-----------+-------+----------+----------+--------+\n",
      "|purchase_id|user_id|product_id|      date|quantity|\n",
      "+-----------+-------+----------+----------+--------+\n",
      "|          1|     52|         9|2022-01-01|       1|\n",
      "|          2|     93|        37|2022-01-02|       8|\n",
      "|          3|     15|        33|2022-01-03|       1|\n",
      "|          4|     72|        42|2022-01-04|       9|\n",
      "|          5|     61|        44|2022-01-05|       6|\n",
      "|          6|     21|        24|2022-01-06|       7|\n",
      "|          7|     83|        15|2022-01-07|       7|\n",
      "|          8|     87|        32|2022-01-08|       3|\n",
      "|          9|     75|        32|2022-01-09|       2|\n",
      "|         10|     75|        24|2022-01-10|       9|\n",
      "+-----------+-------+----------+----------+--------+\n",
      "only showing top 10 rows\n",
      "\n"
     ]
    }
   ],
   "execution_count": 7
  },
  {
   "metadata": {},
   "cell_type": "code",
   "outputs": [],
   "execution_count": null,
   "source": "",
   "id": "7286b2ba65b76bc0"
  },
  {
   "metadata": {},
   "cell_type": "markdown",
   "source": "# Етап 2, очистка датасетів",
   "id": "27b9cc54e8f93bda"
  },
  {
   "metadata": {
    "ExecuteTime": {
     "end_time": "2025-05-10T21:37:11.566530Z",
     "start_time": "2025-05-10T21:37:11.523673Z"
    }
   },
   "cell_type": "code",
   "source": [
    "df_users = df_users.dropna()\n",
    "df_products = df_products.dropna()\n",
    "df_purchases = df_purchases.dropna()"
   ],
   "id": "8a9aa14b0c1a33f2",
   "outputs": [],
   "execution_count": 8
  },
  {
   "metadata": {
    "ExecuteTime": {
     "end_time": "2025-05-10T21:37:13.433542Z",
     "start_time": "2025-05-10T21:37:12.961782Z"
    }
   },
   "cell_type": "code",
   "source": [
    "df_users.show(10)\n",
    "df_products.show(10)\n",
    "df_purchases.show(10)"
   ],
   "id": "6b2eceb7952819c3",
   "outputs": [
    {
     "name": "stdout",
     "output_type": "stream",
     "text": [
      "+-------+-------+---+------------------+\n",
      "|user_id|   name|age|             email|\n",
      "+-------+-------+---+------------------+\n",
      "|      1| User_1| 45| user1@example.com|\n",
      "|      2| User_2| 48| user2@example.com|\n",
      "|      3| User_3| 36| user3@example.com|\n",
      "|      4| User_4| 46| user4@example.com|\n",
      "|      5| User_5| 29| user5@example.com|\n",
      "|      6| User_6| 39| user6@example.com|\n",
      "|      7| User_7| 24| user7@example.com|\n",
      "|      8| User_8| 44| user8@example.com|\n",
      "|      9| User_9| 27| user9@example.com|\n",
      "|     10|User_10| 43|user10@example.com|\n",
      "+-------+-------+---+------------------+\n",
      "only showing top 10 rows\n",
      "\n",
      "+----------+------------+-----------+-----+\n",
      "|product_id|product_name|   category|price|\n",
      "+----------+------------+-----------+-----+\n",
      "|         1|   Product_1|     Beauty|  8.3|\n",
      "|         2|   Product_2|       Home|  8.3|\n",
      "|         3|   Product_3|Electronics|  9.2|\n",
      "|         4|   Product_4|Electronics|  2.6|\n",
      "|         5|   Product_5|Electronics|  9.4|\n",
      "|         6|   Product_6|     Sports|  8.7|\n",
      "|         7|   Product_7|     Beauty|  8.2|\n",
      "|         8|   Product_8|     Sports|  1.0|\n",
      "|         9|   Product_9|     Beauty|  6.0|\n",
      "|        10|  Product_10|     Sports|  5.4|\n",
      "+----------+------------+-----------+-----+\n",
      "only showing top 10 rows\n",
      "\n",
      "+-----------+-------+----------+----------+--------+\n",
      "|purchase_id|user_id|product_id|      date|quantity|\n",
      "+-----------+-------+----------+----------+--------+\n",
      "|          1|     52|         9|2022-01-01|       1|\n",
      "|          2|     93|        37|2022-01-02|       8|\n",
      "|          3|     15|        33|2022-01-03|       1|\n",
      "|          4|     72|        42|2022-01-04|       9|\n",
      "|          5|     61|        44|2022-01-05|       6|\n",
      "|          6|     21|        24|2022-01-06|       7|\n",
      "|          7|     83|        15|2022-01-07|       7|\n",
      "|          8|     87|        32|2022-01-08|       3|\n",
      "|          9|     75|        32|2022-01-09|       2|\n",
      "|         10|     75|        24|2022-01-10|       9|\n",
      "+-----------+-------+----------+----------+--------+\n",
      "only showing top 10 rows\n",
      "\n"
     ]
    }
   ],
   "execution_count": 9
  },
  {
   "metadata": {},
   "cell_type": "code",
   "outputs": [],
   "execution_count": null,
   "source": "",
   "id": "11cfc625407ea08c"
  },
  {
   "metadata": {
    "ExecuteTime": {
     "end_time": "2025-05-10T21:50:25.316604Z",
     "start_time": "2025-05-10T21:50:25.309025Z"
    }
   },
   "cell_type": "code",
   "source": [
    "df_users.printSchema()\n",
    "df_products.printSchema()\n",
    "df_purchases.printSchema()"
   ],
   "id": "3c5a77cc52afc72e",
   "outputs": [
    {
     "name": "stdout",
     "output_type": "stream",
     "text": [
      "root\n",
      " |-- user_id: string (nullable = true)\n",
      " |-- name: string (nullable = true)\n",
      " |-- age: string (nullable = true)\n",
      " |-- email: string (nullable = true)\n",
      "\n",
      "root\n",
      " |-- product_id: string (nullable = true)\n",
      " |-- product_name: string (nullable = true)\n",
      " |-- category: string (nullable = true)\n",
      " |-- price: string (nullable = true)\n",
      "\n",
      "root\n",
      " |-- purchase_id: string (nullable = true)\n",
      " |-- user_id: string (nullable = true)\n",
      " |-- product_id: string (nullable = true)\n",
      " |-- date: string (nullable = true)\n",
      " |-- quantity: string (nullable = true)\n",
      "\n"
     ]
    }
   ],
   "execution_count": 11
  },
  {
   "metadata": {},
   "cell_type": "markdown",
   "source": "# Етап 3, сума покупок за категоріями",
   "id": "d509e50ccfb9eb5a"
  },
  {
   "metadata": {
    "ExecuteTime": {
     "end_time": "2025-05-10T21:55:47.923418Z",
     "start_time": "2025-05-10T21:55:46.590705Z"
    }
   },
   "cell_type": "code",
   "source": [
    "df = df_purchases.join(df_products, df_purchases.product_id == df_products.product_id, 'inner').drop(df_products.product_id).select('user_id', 'category', 'price', 'quantity').withColumn(\"subtotal\", col(\"price\").cast(DoubleType()) * (col(\"quantity\").cast(DoubleType()))).groupBy('category').agg(\n",
    "    count(\"*\").alias(\"total_\"),\n",
    "    sum(\"subtotal\").alias(\"total_sum_\")\n",
    ").show()"
   ],
   "id": "1a83ddecc9f456cd",
   "outputs": [
    {
     "name": "stdout",
     "output_type": "stream",
     "text": [
      "+-----------+------+------------------+\n",
      "|   category|total_|        total_sum_|\n",
      "+-----------+------+------------------+\n",
      "|       Home|    44|1523.4999999999998|\n",
      "|     Sports|    63|1802.4999999999998|\n",
      "|Electronics|    42|1174.7999999999997|\n",
      "|   Clothing|    26|             790.3|\n",
      "|     Beauty|    12| 459.8999999999999|\n",
      "+-----------+------+------------------+\n",
      "\n"
     ]
    }
   ],
   "execution_count": 18
  },
  {
   "metadata": {},
   "cell_type": "markdown",
   "source": "# Етап 4, сума покупок за категоріями для групи 18-25 років",
   "id": "d55da6e4fe112d4e"
  },
  {
   "metadata": {
    "ExecuteTime": {
     "end_time": "2025-05-10T21:59:23.635440Z",
     "start_time": "2025-05-10T21:59:22.959135Z"
    }
   },
   "cell_type": "code",
   "source": [
    "df = (df_purchases.join(df_products, df_purchases.product_id == df_products.product_id, 'inner')\n",
    "      .drop(df_products.product_id)\n",
    "      .join(df_users, df_purchases.user_id == df_users.user_id, 'inner')\n",
    "      .drop(df_users.user_id)\n",
    "      .select('user_id', 'age', 'category', 'price', 'quantity')\n",
    "      .withColumn(\"subtotal\", col(\"price\").cast(DoubleType()) * (col(\"quantity\").cast(DoubleType())))\n",
    "      .where(col(\"age\").between(18, 25))\n",
    "      .groupBy('category')\n",
    "      .agg(\n",
    "            count(\"*\").alias(\"total_\"),\n",
    "            sum(\"subtotal\").alias(\"total_sum_\")\n",
    "            )\n",
    "      .show())"
   ],
   "id": "fa3021f82b0f874d",
   "outputs": [
    {
     "name": "stdout",
     "output_type": "stream",
     "text": [
      "+-----------+------+------------------+\n",
      "|   category|total_|        total_sum_|\n",
      "+-----------+------+------------------+\n",
      "|       Home|     7|             361.1|\n",
      "|     Sports|    12|310.49999999999994|\n",
      "|Electronics|     5|             249.6|\n",
      "|   Clothing|     6|             245.0|\n",
      "|     Beauty|     2|41.400000000000006|\n",
      "+-----------+------+------------------+\n",
      "\n"
     ]
    }
   ],
   "execution_count": 19
  },
  {
   "metadata": {},
   "cell_type": "markdown",
   "source": "# Етап 5, частка покупок за кожною категорією товарів від сумарних витрат для вікової категорії від 18 до 25 років.",
   "id": "6b951335728f3088"
  },
  {
   "metadata": {
    "ExecuteTime": {
     "end_time": "2025-05-10T22:04:28.408974Z",
     "start_time": "2025-05-10T22:04:28.006367Z"
    }
   },
   "cell_type": "code",
   "source": [
    "df_total = (df_purchases.join(df_products, df_purchases.product_id == df_products.product_id, 'inner')\n",
    "      .drop(df_products.product_id)\n",
    "      .join(df_users, df_purchases.user_id == df_users.user_id, 'inner')\n",
    "      .drop(df_users.user_id)\n",
    "      .select('user_id', 'age', 'category', 'price', 'quantity')\n",
    "      .withColumn(\"subtotal\", col(\"price\").cast(DoubleType()) * (col(\"quantity\").cast(DoubleType())))\n",
    "      .where(col(\"age\").between(18, 25))\n",
    "      .agg(sum(\"subtotal\").alias(\"total_sum_\"))).collect()[0][0]"
   ],
   "id": "4e2a76559adcbb5f",
   "outputs": [],
   "execution_count": 21
  },
  {
   "metadata": {
    "ExecuteTime": {
     "end_time": "2025-05-10T22:05:03.656106Z",
     "start_time": "2025-05-10T22:05:03.171892Z"
    }
   },
   "cell_type": "code",
   "source": [
    "df = (df_purchases.join(df_products, df_purchases.product_id == df_products.product_id, 'inner')\n",
    "      .drop(df_products.product_id)\n",
    "      .join(df_users, df_purchases.user_id == df_users.user_id, 'inner')\n",
    "      .drop(df_users.user_id)\n",
    "      .select('user_id', 'age', 'category', 'price', 'quantity')\n",
    "      .withColumn(\"subtotal\", col(\"price\").cast(DoubleType()) * (col(\"quantity\").cast(DoubleType())))\n",
    "      .where(col(\"age\").between(18, 25))\n",
    "      .groupBy('category')\n",
    "      .agg(\n",
    "            count(\"*\").alias(\"total_\"),\n",
    "            sum(\"subtotal\").alias(\"total_sum_\")\n",
    "            )\n",
    "      .withColumn(\"percent\", round((col(\"total_sum_\") / df_total) * 100, 2))\n",
    "      .show())"
   ],
   "id": "172d648cda5705f4",
   "outputs": [
    {
     "name": "stdout",
     "output_type": "stream",
     "text": [
      "+-----------+------+------------------+-------+\n",
      "|   category|total_|        total_sum_|percent|\n",
      "+-----------+------+------------------+-------+\n",
      "|       Home|     7|             361.1|   29.9|\n",
      "|     Sports|    12|310.49999999999994|  25.71|\n",
      "|Electronics|     5|             249.6|  20.67|\n",
      "|   Clothing|     6|             245.0|  20.29|\n",
      "|     Beauty|     2|41.400000000000006|   3.43|\n",
      "+-----------+------+------------------+-------+\n",
      "\n"
     ]
    }
   ],
   "execution_count": 22
  },
  {
   "metadata": {},
   "cell_type": "markdown",
   "source": "# Етап 6, топ 3 категорії продуктів з найвищим відсотком витрат споживачами віком від 18 до 25 років",
   "id": "f104139a6b38f26a"
  },
  {
   "metadata": {},
   "cell_type": "code",
   "outputs": [],
   "execution_count": null,
   "source": [
    "df_total = (df_purchases.join(df_products, df_purchases.product_id == df_products.product_id, 'inner')\n",
    "      .drop(df_products.product_id)\n",
    "      .join(df_users, df_purchases.user_id == df_users.user_id, 'inner')\n",
    "      .drop(df_users.user_id)\n",
    "      .select('user_id', 'age', 'category', 'price', 'quantity')\n",
    "      .withColumn(\"subtotal\", col(\"price\").cast(DoubleType()) * (col(\"quantity\").cast(DoubleType())))\n",
    "      .where(col(\"age\").between(18, 25))\n",
    "      .agg(sum(\"subtotal\").alias(\"total_sum_\"))).collect()[0][0]"
   ],
   "id": "83efd9deea941e56"
  },
  {
   "metadata": {
    "ExecuteTime": {
     "end_time": "2025-05-10T22:07:04.589973Z",
     "start_time": "2025-05-10T22:07:04.098163Z"
    }
   },
   "cell_type": "code",
   "source": [
    "df = (df_purchases.join(df_products, df_purchases.product_id == df_products.product_id, 'inner')\n",
    "      .drop(df_products.product_id)\n",
    "      .join(df_users, df_purchases.user_id == df_users.user_id, 'inner')\n",
    "      .drop(df_users.user_id)\n",
    "      .select('user_id', 'age', 'category', 'price', 'quantity')\n",
    "      .withColumn(\"subtotal\", col(\"price\").cast(DoubleType()) * (col(\"quantity\").cast(DoubleType())))\n",
    "      .where(col(\"age\").between(18, 25))\n",
    "      .groupBy('category')\n",
    "      .agg(\n",
    "            count(\"*\").alias(\"total_\"),\n",
    "            sum(\"subtotal\").alias(\"total_sum_\")\n",
    "            )\n",
    "      .withColumn(\"percent\", round((col(\"total_sum_\") / df_total) * 100, 2))\n",
    "      .orderBy(desc(\"percent\"))\n",
    "      .limit(3)\n",
    "      .show())"
   ],
   "id": "4c2bb4f842425251",
   "outputs": [
    {
     "name": "stdout",
     "output_type": "stream",
     "text": [
      "+-----------+------+------------------+-------+\n",
      "|   category|total_|        total_sum_|percent|\n",
      "+-----------+------+------------------+-------+\n",
      "|       Home|     7|             361.1|   29.9|\n",
      "|     Sports|    12|310.49999999999994|  25.71|\n",
      "|Electronics|     5|             249.6|  20.67|\n",
      "+-----------+------+------------------+-------+\n",
      "\n"
     ]
    }
   ],
   "execution_count": 24
  },
  {
   "metadata": {},
   "cell_type": "code",
   "outputs": [],
   "execution_count": null,
   "source": "",
   "id": "571199cd57bf6150"
  },
  {
   "metadata": {
    "ExecuteTime": {
     "end_time": "2025-05-10T22:07:19.032097Z",
     "start_time": "2025-05-10T22:07:18.846616Z"
    }
   },
   "cell_type": "code",
   "source": [
    "# Закриваємо сесію Spark\n",
    "spark.stop()\n"
   ],
   "id": "20541a9364722794",
   "outputs": [],
   "execution_count": 25
  },
  {
   "metadata": {},
   "cell_type": "code",
   "outputs": [],
   "execution_count": null,
   "source": "",
   "id": "c3de361377511d67"
  }
 ],
 "metadata": {
  "kernelspec": {
   "display_name": "Python 3",
   "language": "python",
   "name": "python3"
  },
  "language_info": {
   "codemirror_mode": {
    "name": "ipython",
    "version": 2
   },
   "file_extension": ".py",
   "mimetype": "text/x-python",
   "name": "python",
   "nbconvert_exporter": "python",
   "pygments_lexer": "ipython2",
   "version": "2.7.6"
  }
 },
 "nbformat": 4,
 "nbformat_minor": 5
}
